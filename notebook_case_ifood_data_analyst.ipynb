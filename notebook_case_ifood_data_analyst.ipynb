{
 "cells": [
  {
   "cell_type": "markdown",
   "metadata": {
    "application/vnd.databricks.v1+cell": {
     "cellMetadata": {},
     "inputWidgets": {},
     "nuid": "63b597fc-c86a-46e1-9b60-2581c75d9e26",
     "showTitle": false,
     "tableResultSettingsMap": {},
     "title": ""
    }
   },
   "source": [
    "_**Case Ifood - Vitor Vieira -\n",
    "Data Analyst**_"
   ]
  },
  {
   "cell_type": "markdown",
   "metadata": {
    "application/vnd.databricks.v1+cell": {
     "cellMetadata": {},
     "inputWidgets": {},
     "nuid": "cf91c2ba-df3d-43f0-a124-87b20e570715",
     "showTitle": false,
     "tableResultSettingsMap": {},
     "title": ""
    }
   },
   "source": [
    "**Download dos dados para o repositorio no Databricks**"
   ]
  },
  {
   "cell_type": "code",
   "execution_count": 0,
   "metadata": {
    "application/vnd.databricks.v1+cell": {
     "cellMetadata": {
      "byteLimit": 2048000,
      "rowLimit": 10000
     },
     "inputWidgets": {},
     "nuid": "7053f673-e0e2-4b3a-a8fa-b2fb34445a78",
     "showTitle": false,
     "tableResultSettingsMap": {},
     "title": ""
    }
   },
   "outputs": [
    {
     "output_type": "stream",
     "name": "stdout",
     "output_type": "stream",
     "text": [
      "Out[44]: True"
     ]
    }
   ],
   "source": [
    "# Download do arquivo .JSON\n",
    "url_orders_json = \"https://data-architect-test-source.s3-sa-east-1.amazonaws.com/order.json.gz\" \n",
    "local_path = \"dbfs:/tmp/order.json.gz\"\n",
    "dbutils.fs.cp(url_orders_json, local_path)"
   ]
  },
  {
   "cell_type": "code",
   "execution_count": 0,
   "metadata": {
    "application/vnd.databricks.v1+cell": {
     "cellMetadata": {
      "byteLimit": 2048000,
      "rowLimit": 10000
     },
     "inputWidgets": {},
     "nuid": "1ffe919e-ce16-428a-988e-db58b2c5403a",
     "showTitle": false,
     "tableResultSettingsMap": {},
     "title": ""
    }
   },
   "outputs": [
    {
     "output_type": "stream",
     "name": "stdout",
     "output_type": "stream",
     "text": [
      "Out[50]: True"
     ]
    }
   ],
   "source": [
    "## Download dos arquivos .CSV \n",
    "\n",
    "# Consumer\n",
    "url_consumer_csv = \"https://data-architect-test-source.s3-sa-east-1.amazonaws.com/consumer.csv.gz\" \n",
    "local_path = \"dbfs:/tmp/consumer.csv.gz\"\n",
    "dbutils.fs.cp(url_consumer_csv, local_path)\n",
    "\n",
    "# Restaurant\n",
    "url_restaurant_csv = \"https://data-architect-test-source.s3-sa-east-1.amazonaws.com/restaurant.csv.gz\" \n",
    "local_path = \"dbfs:/tmp/restaurant_csv.gz\"\n",
    "dbutils.fs.cp(url_restaurant_csv, local_path)"
   ]
  },
  {
   "cell_type": "code",
   "execution_count": 0,
   "metadata": {
    "application/vnd.databricks.v1+cell": {
     "cellMetadata": {
      "byteLimit": 2048000,
      "rowLimit": 10000
     },
     "inputWidgets": {},
     "nuid": "ee18c1e4-e599-4a69-9caf-61edaef7f275",
     "showTitle": false,
     "tableResultSettingsMap": {},
     "title": ""
    }
   },
   "outputs": [
    {
     "output_type": "stream",
     "name": "stdout",
     "output_type": "stream",
     "text": [
      "ab_test_ref.tar.gz\nconsumer.csv.gz\norder.json.gz\nrestaurant_csv.gz\n"
     ]
    }
   ],
   "source": [
    "## Download do arquivo .TAR \n",
    "\n",
    "# AB_test\n",
    "url_ab_test_tar = \"https://data-architect-test-source.s3-sa-east-1.amazonaws.com/ab_test_ref.tar.gz\" \n",
    "local_path = \"dbfs:/tmp/ab_test_ref.tar.gz\"\n",
    "dbutils.fs.cp(url_ab_test_tar, local_path)\n",
    "\n",
    "# Listar conteúdo de um diretório no DBFS\n",
    "files = dbutils.fs.ls(\"dbfs:/tmp/\")\n",
    "for file in files:\n",
    "    print(file.name)"
   ]
  },
  {
   "cell_type": "markdown",
   "metadata": {
    "application/vnd.databricks.v1+cell": {
     "cellMetadata": {},
     "inputWidgets": {},
     "nuid": "c9480228-ca97-479a-9674-6a91f696ce71",
     "showTitle": false,
     "tableResultSettingsMap": {},
     "title": ""
    }
   },
   "source": [
    "Extrair .TAR para .CSV"
   ]
  },
  {
   "cell_type": "code",
   "execution_count": 0,
   "metadata": {
    "application/vnd.databricks.v1+cell": {
     "cellMetadata": {
      "byteLimit": 2048000,
      "rowLimit": 10000
     },
     "inputWidgets": {},
     "nuid": "6ad83d59-7398-4a19-87e7-d5aab72b8c83",
     "showTitle": false,
     "tableResultSettingsMap": {},
     "title": ""
    }
   },
   "outputs": [
    {
     "output_type": "stream",
     "name": "stdout",
     "output_type": "stream",
     "text": [
      "Out[133]: True"
     ]
    }
   ],
   "source": [
    "# Criar uma cópia do arquivo \"dbfs:/\" -> \"/dbfs/\" para poder usar shell e extrair o arquivo\n",
    "\n",
    "dbutils.fs.cp(\"dbfs:/tmp/ab_test_ref.tar.gz\", \"file:/dbfs/tmp/ab_test_ref.tar.gz\")"
   ]
  },
  {
   "cell_type": "code",
   "execution_count": 0,
   "metadata": {
    "application/vnd.databricks.v1+cell": {
     "cellMetadata": {
      "byteLimit": 2048000,
      "rowLimit": 10000
     },
     "inputWidgets": {},
     "nuid": "dc2ed89b-5628-4051-a18b-6593f4b3c81d",
     "showTitle": false,
     "tableResultSettingsMap": {},
     "title": ""
    }
   },
   "outputs": [
    {
     "output_type": "stream",
     "name": "stdout",
     "output_type": "stream",
     "text": [
      "ab_test_ref.tar.gz\r\n"
     ]
    }
   ],
   "source": [
    "# Verificar se a cópia foi feita com sucesso\n",
    "ls /dbfs/tmp/ "
   ]
  },
  {
   "cell_type": "code",
   "execution_count": 0,
   "metadata": {
    "application/vnd.databricks.v1+cell": {
     "cellMetadata": {
      "byteLimit": 2048000,
      "rowLimit": 10000
     },
     "inputWidgets": {},
     "nuid": "b77ba08d-52c4-4339-8da8-707c381ffb2d",
     "showTitle": false,
     "tableResultSettingsMap": {},
     "title": ""
    }
   },
   "outputs": [
    {
     "output_type": "stream",
     "name": "stdout",
     "output_type": "stream",
     "text": [
      "._ab_test_ref.csv\ntar: Ignoring unknown extended header keyword 'LIBARCHIVE.xattr.com.apple.quarantine'\nab_test_ref.csv\n"
     ]
    }
   ],
   "source": [
    "%sh\n",
    "# Criar o diretório de destino para extração\n",
    "mkdir -p /dbfs/tmp/extracted/\n",
    "\n",
    "# Extrair o arquivo .tar.gz para o diretório\n",
    "tar -zxvf /dbfs/tmp/ab_test_ref.tar.gz -C /dbfs/tmp/extracted/"
   ]
  },
  {
   "cell_type": "code",
   "execution_count": 0,
   "metadata": {
    "application/vnd.databricks.v1+cell": {
     "cellMetadata": {
      "byteLimit": 2048000,
      "rowLimit": 10000
     },
     "inputWidgets": {},
     "nuid": "e316fe58-91b0-4fa5-999b-94e92ba50787",
     "showTitle": false,
     "tableResultSettingsMap": {},
     "title": ""
    }
   },
   "outputs": [
    {
     "output_type": "stream",
     "name": "stdout",
     "output_type": "stream",
     "text": [
      "ab_test_ref.csv\r\n"
     ]
    }
   ],
   "source": [
    "# Verificar se o arquivo foi extraído com sucesso no diretorio\n",
    "\n",
    "ls /dbfs/tmp/extracted/"
   ]
  },
  {
   "cell_type": "code",
   "execution_count": 0,
   "metadata": {
    "application/vnd.databricks.v1+cell": {
     "cellMetadata": {
      "byteLimit": 2048000,
      "rowLimit": 10000
     },
     "inputWidgets": {},
     "nuid": "ba5335e4-5572-42d1-8195-59be0885db18",
     "showTitle": false,
     "tableResultSettingsMap": {},
     "title": ""
    }
   },
   "outputs": [
    {
     "output_type": "stream",
     "name": "stdout",
     "output_type": "stream",
     "text": [
      "Out[147]: True"
     ]
    }
   ],
   "source": [
    "# Mover o arquivo extraido /dbfs/tmp/extracted/ab_test_ref.csv de volta \"dbfs:/tmp/\"\n",
    "\n",
    "dbutils.fs.cp(\"file:/dbfs/tmp/extracted/ab_test_ref.csv\", \"dbfs:/tmp/ab_test_ref.csv\")"
   ]
  },
  {
   "cell_type": "code",
   "execution_count": 0,
   "metadata": {
    "application/vnd.databricks.v1+cell": {
     "cellMetadata": {
      "byteLimit": 2048000,
      "rowLimit": 10000
     },
     "inputWidgets": {},
     "nuid": "e67c35ca-5dba-4aec-9885-d1d89a15df60",
     "showTitle": false,
     "tableResultSettingsMap": {},
     "title": ""
    }
   },
   "outputs": [
    {
     "output_type": "stream",
     "name": "stdout",
     "output_type": "stream",
     "text": [
      "ab_test_ref.csv\nab_test_ref.tar.gz\nconsumer.csv.gz\norder.json.gz\nrestaurant_csv.gz\n"
     ]
    }
   ],
   "source": [
    "# Listar conteúdo de um diretório no DBFS para checar se foi feita uma cópia do \"ab_test_ref.csv\"\n",
    "files = dbutils.fs.ls(\"dbfs:/tmp/\")\n",
    "for file in files:\n",
    "    print(file.name)\n",
    "\n",
    "## dbutils.fs.rm(\"dbfs:/tmp/dados.tar\", True)"
   ]
  },
  {
   "cell_type": "markdown",
   "metadata": {
    "application/vnd.databricks.v1+cell": {
     "cellMetadata": {},
     "inputWidgets": {},
     "nuid": "b9c8885e-088c-40e3-9004-15e5d3f301f9",
     "showTitle": false,
     "tableResultSettingsMap": {},
     "title": ""
    }
   },
   "source": [
    "**Leitura dos dataframes**"
   ]
  },
  {
   "cell_type": "code",
   "execution_count": 0,
   "metadata": {
    "application/vnd.databricks.v1+cell": {
     "cellMetadata": {
      "byteLimit": 2048000,
      "rowLimit": 10000
     },
     "inputWidgets": {},
     "nuid": "7a62e507-1085-43f6-8249-03a70397104e",
     "showTitle": false,
     "tableResultSettingsMap": {},
     "title": ""
    }
   },
   "outputs": [
    {
     "output_type": "stream",
     "name": "stdout",
     "output_type": "stream",
     "text": [
      "+--------------------+--------+--------------------+------+-------------+-------------------+---------------------+\n|         customer_id|language|          created_at|active|customer_name|customer_phone_area|customer_phone_number|\n+--------------------+--------+--------------------+------+-------------+-------------------+---------------------+\n|e8cc60860e09c0bb1...|   pt-br|2018-04-05 14:49:...|  true|         NUNO|                 46|            816135924|\n|a2834a38a9876cf74...|   pt-br|2018-01-14 21:40:...|  true|     ADRIELLY|                 59|            231330577|\n|41e1051728eba1334...|   pt-br|2018-01-07 03:47:...|  true|        PAULA|                 62|            347597883|\n|8e7c1dcb64edf95c9...|   pt-br|2018-01-10 22:17:...|  true|       HELTON|                 13|            719366842|\n|7823d4cf4150c5dae...|   pt-br|2018-04-06 00:16:...|  true|       WENDER|                 76|            543232158|\n+--------------------+--------+--------------------+------+-------------+-------------------+---------------------+\nonly showing top 5 rows\n\n"
     ]
    }
   ],
   "source": [
    "# LEITURA DA BASE CONSUMIDOR --> DF_CONSUMER\n",
    "\n",
    "path_consumer_csv = \"dbfs:/tmp/consumer.csv.gz\"\n",
    "df_consumer = spark.read.csv(path_consumer_csv, header=True, inferSchema=True)\n",
    "df_consumer.show(5)"
   ]
  },
  {
   "cell_type": "code",
   "execution_count": 0,
   "metadata": {
    "application/vnd.databricks.v1+cell": {
     "cellMetadata": {
      "byteLimit": 2048000,
      "rowLimit": 10000
     },
     "inputWidgets": {},
     "nuid": "5274addc-9475-45f4-b0a4-d335920e8045",
     "showTitle": false,
     "tableResultSettingsMap": {},
     "title": ""
    }
   },
   "outputs": [
    {
     "output_type": "stream",
     "name": "stdout",
     "output_type": "stream",
     "text": [
      "+--------------------+--------------------+-------+-----------+--------------+------------+-------------+-------------------+-----------------+--------------+--------------+----------------+\n|                  id|          created_at|enabled|price_range|average_ticket|takeout_time|delivery_time|minimum_order_value|merchant_zip_code| merchant_city|merchant_state|merchant_country|\n+--------------------+--------------------+-------+-----------+--------------+------------+-------------+-------------------+-----------------+--------------+--------------+----------------+\n|d19ff6fca6288939b...|2017-01-23 12:52:...|  false|          3|          60.0|           0|           50|               30.0|            14025|RIBEIRAO PRETO|            SP|              BR|\n|631df0985fdbbaf27...|2017-01-20 13:14:...|   true|          3|          60.0|           0|            0|               30.0|            50180|     SAO PAULO|            SP|              BR|\n|135c5c4ae4c1ec1fd...|2017-01-23 12:46:...|   true|          5|         100.0|           0|           45|               10.0|            23090|RIO DE JANEIRO|            RJ|              BR|\n|d26f84c470451f752...|2017-01-20 13:15:...|   true|          3|          80.0|           0|            0|               18.9|            40255|      SALVADOR|            BA|              BR|\n|97b9884600ea71923...|2017-01-20 13:14:...|   true|          3|          60.0|           0|            0|               25.0|            64600|       BARUERI|            SP|              BR|\n+--------------------+--------------------+-------+-----------+--------------+------------+-------------+-------------------+-----------------+--------------+--------------+----------------+\nonly showing top 5 rows\n\n"
     ]
    }
   ],
   "source": [
    "# LEITURA DA BASE RESTAURANTE --> DF_RESTAURANT\n",
    "\n",
    "path_restaurant_csv = \"dbfs:/tmp/restaurant_csv.gz\"\n",
    "df_restaurant = spark.read.csv(path_restaurant_csv, header=True, inferSchema=True)\n",
    "df_restaurant.show(5)"
   ]
  },
  {
   "cell_type": "code",
   "execution_count": 0,
   "metadata": {
    "application/vnd.databricks.v1+cell": {
     "cellMetadata": {
      "byteLimit": 2048000,
      "rowLimit": 10000
     },
     "inputWidgets": {},
     "nuid": "d66f3f42-09ed-4ab1-83d3-09ed01a51f8b",
     "showTitle": false,
     "tableResultSettingsMap": {},
     "title": ""
    }
   },
   "outputs": [
    {
     "output_type": "stream",
     "name": "stdout",
     "output_type": "stream",
     "text": [
      "+--------------------+---------+\n|         customer_id|is_target|\n+--------------------+---------+\n|755e1fa18f25caec5...|   target|\n|b821aa8372b8e5b82...|  control|\n|d425d6ee4c9d4e211...|  control|\n|6a7089eea0a5dc294...|   target|\n|dad6b7e222bab31c0...|  control|\n+--------------------+---------+\nonly showing top 5 rows\n\n"
     ]
    }
   ],
   "source": [
    "# LEITURA DA BASE AB_TEST --> DF_AB_TEST\n",
    "\n",
    "path_ab_test_csv = \"dbfs:/tmp/ab_test_ref.csv\"\n",
    "df_ab_test = spark.read.csv(path_ab_test_csv, header=True, inferSchema=True)\n",
    "df_ab_test.show(5)"
   ]
  },
  {
   "cell_type": "code",
   "execution_count": 0,
   "metadata": {
    "application/vnd.databricks.v1+cell": {
     "cellMetadata": {
      "byteLimit": 2048000,
      "rowLimit": 10000
     },
     "inputWidgets": {},
     "nuid": "c1cc69c0-86c0-4e46-9ab2-57a0db2e901d",
     "showTitle": false,
     "tableResultSettingsMap": {},
     "title": ""
    }
   },
   "outputs": [
    {
     "output_type": "stream",
     "name": "stdout",
     "output_type": "stream",
     "text": [
      "+-----------+--------------------+-------------+---------------------+------------------------+-------------------------+----------------------------+-------------------------+--------------------------+----------------------+-------------------------+--------------------+--------------------+-----------------+------------------+-----------------+--------------------+--------------------+---------------+--------------------+------------------+---------------+\n|        cpf|         customer_id|customer_name|delivery_address_city|delivery_address_country|delivery_address_district|delivery_address_external_id|delivery_address_latitude|delivery_address_longitude|delivery_address_state|delivery_address_zip_code|               items|         merchant_id|merchant_latitude|merchant_longitude|merchant_timezone|    order_created_at|            order_id|order_scheduled|order_scheduled_date|order_total_amount|origin_platform|\n+-----------+--------------------+-------------+---------------------+------------------------+-------------------------+----------------------------+-------------------------+--------------------------+----------------------+-------------------------+--------------------+--------------------+-----------------+------------------+-----------------+--------------------+--------------------+---------------+--------------------+------------------+---------------+\n|80532101763|7ba88a68bb2a3504c...|      GUSTAVO|               FRANCA|                      BR|         JARDIM ESPRAIADO|                     6736655|                   -47.39|                    -20.55|                    SP|                    14403|[{\"name\": \"Parmeg...|a992a079a651e699d...|           -47.39|            -20.55|America/Sao_Paulo|2019-01-17T22:50:...|33e0612d62e5eb42a...|          false|                null|              46.0|        ANDROID|\n|43352103961|078acecdcf7fa89d3...|     MICHELLE|               SANTOS|                      BR|             CAMPO GRANDE|                     8759216|                   -46.34|                    -23.96|                    SP|                    11070|[{\"name\": \"Filé M...|5152f28ee0518b880...|           -46.34|            -23.96|America/Sao_Paulo|2019-01-17T17:51:...|148c4353a2952f3fe...|          false|                null|             104.5|        ANDROID|\n|38650991217|0e38a3237b5946e8a...|       VICTOR|            GUARULHOS|                      BR|             JARDIM ROSSI|                     8765930|                   -46.53|                    -23.44|                    SP|                    71304|[{\"name\": \"GRANDE...|b6096419455c35d06...|           -46.53|            -23.44|America/Sao_Paulo|2019-01-17T22:53:...|c37e495a91b498bb7...|          false|                null|              35.0|            IOS|\n|63579726866|cab1a004b7206d079...|        ANNIE|            SAO PAULO|                      BR|         PARQUE SAO JORGE|                     7834087|                   -46.57|                    -23.53|                    SP|                    30870|[{\"name\": \"CALABR...|082bfdcdf6ccdc343...|           -46.57|            -23.53|America/Sao_Paulo|2019-01-17T23:56:...|b4df94142d2135461...|          false|                null|              40.8|            IOS|\n|90617788806|aa7edf5b166b8c843...|       DANIEL|              VITORIA|                      BR|           JARDIM CAMBURI|                     7211683|                   -40.27|                    -20.25|                    ES|                    29090|[{\"name\": \"GRANDE...|d7adb764bac29ccb7...|           -40.27|            -20.25|America/Sao_Paulo|2019-01-17T23:40:...|4ff64b33b272c1886...|          false|                null|              48.5|        ANDROID|\n+-----------+--------------------+-------------+---------------------+------------------------+-------------------------+----------------------------+-------------------------+--------------------------+----------------------+-------------------------+--------------------+--------------------+-----------------+------------------+-----------------+--------------------+--------------------+---------------+--------------------+------------------+---------------+\nonly showing top 5 rows\n\nroot\n |-- cpf: string (nullable = true)\n |-- customer_id: string (nullable = true)\n |-- customer_name: string (nullable = true)\n |-- delivery_address_city: string (nullable = true)\n |-- delivery_address_country: string (nullable = true)\n |-- delivery_address_district: string (nullable = true)\n |-- delivery_address_external_id: string (nullable = true)\n |-- delivery_address_latitude: string (nullable = true)\n |-- delivery_address_longitude: string (nullable = true)\n |-- delivery_address_state: string (nullable = true)\n |-- delivery_address_zip_code: string (nullable = true)\n |-- items: string (nullable = true)\n |-- merchant_id: string (nullable = true)\n |-- merchant_latitude: string (nullable = true)\n |-- merchant_longitude: string (nullable = true)\n |-- merchant_timezone: string (nullable = true)\n |-- order_created_at: string (nullable = true)\n |-- order_id: string (nullable = true)\n |-- order_scheduled: boolean (nullable = true)\n |-- order_scheduled_date: string (nullable = true)\n |-- order_total_amount: double (nullable = true)\n |-- origin_platform: string (nullable = true)\n\n"
     ]
    }
   ],
   "source": [
    "df_orders = spark.read \\\n",
    "    .option(\"compression\", \"gzip\") \\\n",
    "    .json(\"dbfs:/tmp/order.json.gz\")\n",
    "\n",
    "df_orders.show(5)\n",
    "df_orders.printSchema()"
   ]
  },
  {
   "cell_type": "markdown",
   "metadata": {
    "application/vnd.databricks.v1+cell": {
     "cellMetadata": {},
     "inputWidgets": {},
     "nuid": "110041ae-614e-493d-a397-2791ff878041",
     "showTitle": false,
     "tableResultSettingsMap": {},
     "title": ""
    }
   },
   "source": [
    "## Explorando os dados para entender a estrutura e o conteúdo das bases fornecidas"
   ]
  },
  {
   "cell_type": "code",
   "execution_count": 0,
   "metadata": {
    "application/vnd.databricks.v1+cell": {
     "cellMetadata": {
      "byteLimit": 2048000,
      "rowLimit": 10000
     },
     "inputWidgets": {},
     "nuid": "f1dc2cc6-bba5-4c2e-9922-d435c067f88a",
     "showTitle": false,
     "tableResultSettingsMap": {},
     "title": ""
    }
   },
   "outputs": [],
   "source": [
    "from pyspark.sql.functions import *"
   ]
  },
  {
   "cell_type": "markdown",
   "metadata": {
    "application/vnd.databricks.v1+cell": {
     "cellMetadata": {},
     "inputWidgets": {},
     "nuid": "6eae10ad-b704-4d79-99fc-70d4aa80e4ee",
     "showTitle": false,
     "tableResultSettingsMap": {},
     "title": ""
    }
   },
   "source": [
    "**DF_CONSUMER**"
   ]
  },
  {
   "cell_type": "code",
   "execution_count": 0,
   "metadata": {
    "application/vnd.databricks.v1+cell": {
     "cellMetadata": {
      "byteLimit": 2048000,
      "rowLimit": 10000
     },
     "inputWidgets": {},
     "nuid": "8adcc40d-b336-404a-ba6c-d7296dfd615a",
     "showTitle": false,
     "tableResultSettingsMap": {},
     "title": ""
    }
   },
   "outputs": [
    {
     "output_type": "stream",
     "name": "stdout",
     "output_type": "stream",
     "text": [
      "Out[11]: 806156"
     ]
    }
   ],
   "source": [
    "#Total de 806.156 customers\n",
    "df_consumer.select(\"customer_id\").distinct().count()"
   ]
  },
  {
   "cell_type": "code",
   "execution_count": 0,
   "metadata": {
    "application/vnd.databricks.v1+cell": {
     "cellMetadata": {
      "byteLimit": 2048000,
      "rowLimit": 10000
     },
     "inputWidgets": {},
     "nuid": "17aeb098-0c85-477c-ac9b-34fa65934c8d",
     "showTitle": false,
     "tableResultSettingsMap": {},
     "title": ""
    }
   },
   "outputs": [
    {
     "output_type": "stream",
     "name": "stdout",
     "output_type": "stream",
     "text": [
      "Out[12]: 806156"
     ]
    }
   ],
   "source": [
    "# O total de 806.156 customers é igual ao número de customer_id distinct,\n",
    "# indicando que não há duplicidade nessa coluna\n",
    "\n",
    "df_consumer.select(\"customer_id\").count()"
   ]
  },
  {
   "cell_type": "code",
   "execution_count": 0,
   "metadata": {
    "application/vnd.databricks.v1+cell": {
     "cellMetadata": {
      "byteLimit": 2048000,
      "rowLimit": 10000
     },
     "inputWidgets": {},
     "nuid": "75948074-6b5f-4454-864c-f9330b95f167",
     "showTitle": false,
     "tableResultSettingsMap": {},
     "title": ""
    }
   },
   "outputs": [
    {
     "output_type": "stream",
     "name": "stdout",
     "output_type": "stream",
     "text": [
      "+------+------+-------------------+\n|active| count|         percentage|\n+------+------+-------------------+\n|  true|804561|   99.8021474751785|\n| false|  1595|0.19785252482149857|\n+------+------+-------------------+\n\n"
     ]
    }
   ],
   "source": [
    "# Verificar quantos consumidores estão ativos e porcentagem (%)\n",
    "\n",
    "# Contar o total de linhas\n",
    "total_count_customer = df_consumer.count()\n",
    "\n",
    "# Contar a quantidade de \"true\"\n",
    "customer_percentual_active = df_consumer.groupBy(\"active\").count()\n",
    "\n",
    "# Adicionar a coluna \"percentage\" e realizar a divisão pelo total de linhas\n",
    "df_customer_percentual = customer_percentual_active.withColumn(\"percentage\", (col(\"count\") / total_count_customer) * 100)\n",
    "df_customer_percentual.show()"
   ]
  },
  {
   "cell_type": "markdown",
   "metadata": {
    "application/vnd.databricks.v1+cell": {
     "cellMetadata": {},
     "inputWidgets": {},
     "nuid": "5b9f32d6-876d-405d-8bf9-bd10dd5d39ad",
     "showTitle": false,
     "tableResultSettingsMap": {},
     "title": ""
    }
   },
   "source": [
    "**DF_AB_TEST**"
   ]
  },
  {
   "cell_type": "code",
   "execution_count": 0,
   "metadata": {
    "application/vnd.databricks.v1+cell": {
     "cellMetadata": {
      "byteLimit": 2048000,
      "rowLimit": 10000
     },
     "inputWidgets": {},
     "nuid": "4ac3a43b-188b-4d58-ad8f-afb52d958374",
     "showTitle": false,
     "tableResultSettingsMap": {},
     "title": ""
    }
   },
   "outputs": [
    {
     "output_type": "stream",
     "name": "stdout",
     "output_type": "stream",
     "text": [
      "+---------+------+\n|is_target| count|\n+---------+------+\n|  control|360542|\n|   target|445925|\n+---------+------+\n\n"
     ]
    }
   ],
   "source": [
    "# Verificar a quantidade de clientes distribuídos entre os grupos controle e teste (target) no experimento A/B.\n",
    "# O número total de clientes é inferior (806.467) ao da tabela de clientes (806.156), o que indica que nem todos os clientes foram alocados nos grupos \n",
    "\n",
    "df_ab_test.groupBy(\"is_target\").count().show()"
   ]
  },
  {
   "cell_type": "markdown",
   "metadata": {
    "application/vnd.databricks.v1+cell": {
     "cellMetadata": {},
     "inputWidgets": {},
     "nuid": "690469e6-3ff6-4ee7-88e1-b7293f041a58",
     "showTitle": false,
     "tableResultSettingsMap": {},
     "title": ""
    }
   },
   "source": [
    "**DF_RESTAURANT**"
   ]
  },
  {
   "cell_type": "code",
   "execution_count": 0,
   "metadata": {
    "application/vnd.databricks.v1+cell": {
     "cellMetadata": {
      "byteLimit": 2048000,
      "rowLimit": 10000
     },
     "inputWidgets": {},
     "nuid": "5f45c1f3-1ee9-4f38-a273-12ab1b249c30",
     "showTitle": false,
     "tableResultSettingsMap": {},
     "title": ""
    }
   },
   "outputs": [
    {
     "output_type": "stream",
     "name": "stdout",
     "output_type": "stream",
     "text": [
      "+-------+-----+------------------+\n|enabled|count|        percentage|\n+-------+-----+------------------+\n|   true| 4060|55.677454744925946|\n|  false| 3232|44.322545255074054|\n+-------+-----+------------------+\n\n"
     ]
    }
   ],
   "source": [
    "# Verificar quantos restaurantes estão ativos e porcentagem (%)\n",
    "\n",
    "# Contar o total de linhas\n",
    "total_count_restaurant = df_restaurant.count()\n",
    "\n",
    "# Contar a quantidade de \"enable\"\n",
    "restaurant_percentual_enable = df_restaurant.groupBy(\"enabled\").count()\n",
    "\n",
    "# Adicionar a coluna \"percentage\" e realizar a divisão pelo total de linhas\n",
    "df_rest_percentual = restaurant_percentual_enable.withColumn(\"percentage\", (col(\"count\") / total_count_restaurant) * 100)\n",
    "df_rest_percentual.show()"
   ]
  },
  {
   "cell_type": "code",
   "execution_count": 0,
   "metadata": {
    "application/vnd.databricks.v1+cell": {
     "cellMetadata": {
      "byteLimit": 2048000,
      "rowLimit": 10000
     },
     "inputWidgets": {},
     "nuid": "bed68079-2134-4876-baa6-d68f5f0f257e",
     "showTitle": false,
     "tableResultSettingsMap": {},
     "title": ""
    }
   },
   "outputs": [
    {
     "output_type": "stream",
     "name": "stdout",
     "output_type": "stream",
     "text": [
      "+--------------+-----+\n|merchant_state|count|\n+--------------+-----+\n|            SP| 3127|\n|            RJ| 1170|\n|            MG|  556|\n|            DF|  372|\n|            PR|  372|\n|            RS|  251|\n|            CE|  202|\n|            BA|  190|\n|            SC|  183|\n|            PE|  179|\n|            GO|  152|\n|            ES|  115|\n|            RN|   90|\n|            PB|   85|\n|            AM|   56|\n|            PA|   50|\n|            MS|   41|\n|            SE|   30|\n|            AL|   29|\n|            MA|   20|\n+--------------+-----+\nonly showing top 20 rows\n\n"
     ]
    }
   ],
   "source": [
    "# Divisão de restaurantes por estados (UF) e ordenar de forma descrescente pela quantidade \"count\"\n",
    "\n",
    "df_restaurant.groupBy(\"merchant_state\").count().orderBy(col(\"count\"), ascending=False).show()"
   ]
  },
  {
   "cell_type": "markdown",
   "metadata": {
    "application/vnd.databricks.v1+cell": {
     "cellMetadata": {},
     "inputWidgets": {},
     "nuid": "3217dd4a-19d4-439a-a595-f700ddca4209",
     "showTitle": false,
     "tableResultSettingsMap": {},
     "title": ""
    }
   },
   "source": [
    "**DF_ORDERS**"
   ]
  },
  {
   "cell_type": "code",
   "execution_count": 0,
   "metadata": {
    "application/vnd.databricks.v1+cell": {
     "cellMetadata": {
      "byteLimit": 2048000,
      "rowLimit": 10000
     },
     "inputWidgets": {},
     "nuid": "21b0fc19-8f78-4284-b4dc-894d0f28f222",
     "showTitle": false,
     "tableResultSettingsMap": {},
     "title": ""
    }
   },
   "outputs": [
    {
     "output_type": "stream",
     "name": "stdout",
     "output_type": "stream",
     "text": [
      "+-------------------+\n|         order_date|\n+-------------------+\n|2019-01-17 22:00:00|\n|2019-01-17 17:00:00|\n|2019-01-17 22:00:00|\n|2019-01-17 23:00:00|\n|2019-01-17 23:00:00|\n+-------------------+\nonly showing top 5 rows\n\n"
     ]
    }
   ],
   "source": [
    "# Truncar a data para contabilizar a quantidade de dias da tabela fato \"orders\"\n",
    "\n",
    "##df_orders_truncated = df_orders.withColumn(\"order_date\", to_date(\"order_created_at\"))\n",
    "##df_orders_truncated.select(\"order_date\").show(5)\n",
    "\n",
    "df_orders_truncated = df_orders.withColumn(\"order_date\",date_trunc(\"hour\", \"order_created_at\"))\n",
    "df_orders_truncated.select(\"order_date\").show(5)"
   ]
  },
  {
   "cell_type": "code",
   "execution_count": 0,
   "metadata": {
    "application/vnd.databricks.v1+cell": {
     "cellMetadata": {
      "byteLimit": 2048000,
      "rowLimit": 10000
     },
     "inputWidgets": {},
     "nuid": "6d7d113d-74e8-4c3b-8ad4-f1533961712f",
     "showTitle": false,
     "tableResultSettingsMap": {},
     "title": ""
    }
   },
   "outputs": [
    {
     "output_type": "stream",
     "name": "stdout",
     "output_type": "stream",
     "text": [
      "+-------------------+-------------------+\n|           min_date|           max_date|\n+-------------------+-------------------+\n|2018-12-03 00:00:00|2019-01-31 23:00:00|\n+-------------------+-------------------+\n\n"
     ]
    }
   ],
   "source": [
    "# Identificar a data mínima e máxima presentes na tabela fato 'orders'\n",
    "\n",
    "df_orders_truncated.select(\n",
    "    min(\"order_date\").alias(\"min_date\"),\n",
    "    max(\"order_date\").alias(\"max_date\")\n",
    ").show()"
   ]
  },
  {
   "cell_type": "code",
   "execution_count": 0,
   "metadata": {
    "application/vnd.databricks.v1+cell": {
     "cellMetadata": {
      "byteLimit": 2048000,
      "rowLimit": 10000
     },
     "inputWidgets": {},
     "nuid": "814b8d41-987f-43b2-a012-eeb75422fac3",
     "showTitle": false,
     "tableResultSettingsMap": {},
     "title": ""
    }
   },
   "outputs": [
    {
     "output_type": "stream",
     "name": "stdout",
     "output_type": "stream",
     "text": [
      "+------------------------+---------------+\n|order_created_at        |order_hour_only|\n+------------------------+---------------+\n|2019-01-17T22:50:06.000Z|22:00          |\n|2019-01-17T17:51:26.000Z|17:00          |\n|2019-01-17T22:53:47.000Z|22:00          |\n|2019-01-17T23:56:53.000Z|23:00          |\n|2019-01-17T23:40:53.000Z|23:00          |\n+------------------------+---------------+\nonly showing top 5 rows\n\n"
     ]
    }
   ],
   "source": [
    "# Extrair apenas a hora do pedido para contar o número de orders por hora e identificar os períodos com maior ociosidade na operação\n",
    "\n",
    "df_orders_hour_only = df_orders_truncated.withColumn(\n",
    "    \"order_hour_only\",\n",
    "    date_format(\"order_created_at\", \"HH:00\")\n",
    ")\n",
    "\n",
    "df_orders_hour_only.select(\"order_created_at\", \"order_hour_only\").show(5, False)"
   ]
  },
  {
   "cell_type": "code",
   "execution_count": 0,
   "metadata": {
    "application/vnd.databricks.v1+cell": {
     "cellMetadata": {
      "byteLimit": 2048000,
      "rowLimit": 10000
     },
     "inputWidgets": {},
     "nuid": "5841f06f-ff3d-4748-a6aa-0e8e5a01e7ef",
     "showTitle": false,
     "tableResultSettingsMap": {},
     "title": ""
    }
   },
   "outputs": [
    {
     "output_type": "stream",
     "name": "stdout",
     "output_type": "stream",
     "text": [
      "Total de clientes com 1 pedido ou menos: 377832\n"
     ]
    }
   ],
   "source": [
    "# Conta o número de pedidos por cliente\n",
    "pedidos_por_cliente = df_orders_truncated.groupBy(\"customer_id\") \\\n",
    "                                         .agg(countDistinct(\"order_id\").alias(\"qtd_pedidos\"))\n",
    "\n",
    "# Filtra os clientes com 1 pedido ou menos\n",
    "clientes_ate_um_pedido = pedidos_por_cliente.filter(\"qtd_pedidos <= 1\")\n",
    "\n",
    "# Conta quantos clientes atendem a esse critério\n",
    "total_clientes = clientes_ate_um_pedido.count()\n",
    "\n",
    "print(f\"Total de clientes com 1 pedido ou menos: {total_clientes}\")"
   ]
  },
  {
   "cell_type": "markdown",
   "metadata": {
    "application/vnd.databricks.v1+cell": {
     "cellMetadata": {},
     "inputWidgets": {},
     "nuid": "e2ab327b-62df-4a4f-8961-780c914ada95",
     "showTitle": false,
     "tableResultSettingsMap": {},
     "title": ""
    }
   },
   "source": [
    "## Inicio das transformações"
   ]
  },
  {
   "cell_type": "markdown",
   "metadata": {
    "application/vnd.databricks.v1+cell": {
     "cellMetadata": {},
     "inputWidgets": {},
     "nuid": "97e99fff-3f0a-4c9a-981d-9fa2ff32a311",
     "showTitle": false,
     "tableResultSettingsMap": {},
     "title": ""
    }
   },
   "source": [
    "df_consumer + Inner Join + df_ab_test"
   ]
  },
  {
   "cell_type": "code",
   "execution_count": 0,
   "metadata": {
    "application/vnd.databricks.v1+cell": {
     "cellMetadata": {
      "byteLimit": 2048000,
      "rowLimit": 10000
     },
     "inputWidgets": {},
     "nuid": "9d328971-ba8d-40bc-873f-efbb9ee70f34",
     "showTitle": false,
     "tableResultSettingsMap": {},
     "title": ""
    }
   },
   "outputs": [
    {
     "output_type": "stream",
     "name": "stdout",
     "output_type": "stream",
     "text": [
      "+--------------------+------+---------+\n|         customer_id|active|is_target|\n+--------------------+------+---------+\n|0001226e517517758...|  true|   target|\n|00021cd56b6d6c980...|  true|   target|\n|00021f6dc15d10418...|  true|   target|\n|00022b8c0c7af061f...|  true|  control|\n|00029b26fb2121119...|  true|   target|\n+--------------------+------+---------+\nonly showing top 5 rows\n\n"
     ]
    }
   ],
   "source": [
    "# Realizar um inner join entre df_consumer e df_ab_test para filtrar apenas os consumer_id que participaram do experimento A/B (inner join irá remover os 311 consumidores que não participaram do teste A/B)\n",
    "\n",
    "df_joined_consumer_ab = df_consumer.join(\n",
    "    df_ab_test,\n",
    "    df_consumer.customer_id == df_ab_test.customer_id,\n",
    "    how=\"inner\"\n",
    ").select(\n",
    "    df_consumer.customer_id,\n",
    "    df_consumer.active,\n",
    "    df_ab_test.is_target\n",
    ")\n",
    "\n",
    "df_joined_consumer_ab.show(5)"
   ]
  },
  {
   "cell_type": "markdown",
   "metadata": {
    "application/vnd.databricks.v1+cell": {
     "cellMetadata": {},
     "inputWidgets": {},
     "nuid": "8c103086-7c52-4198-b9c5-5506d0662c78",
     "showTitle": false,
     "tableResultSettingsMap": {},
     "title": ""
    }
   },
   "source": [
    "df_joined_consumer_ab + Inner Join + df_orders"
   ]
  },
  {
   "cell_type": "code",
   "execution_count": 0,
   "metadata": {
    "application/vnd.databricks.v1+cell": {
     "cellMetadata": {
      "byteLimit": 2048000,
      "rowLimit": 10000
     },
     "inputWidgets": {},
     "nuid": "b9c664e8-c9a6-4483-8954-e57f575079bf",
     "showTitle": false,
     "tableResultSettingsMap": {},
     "title": ""
    }
   },
   "outputs": [
    {
     "output_type": "stream",
     "name": "stdout",
     "output_type": "stream",
     "text": [
      "+--------------------+------+---------+--------------------+--------------------+------------------+\n|         customer_id|active|is_target|         merchant_id|            order_id|order_total_amount|\n+--------------------+------+---------+--------------------+--------------------+------------------+\n|00021cd56b6d6c980...|  true|   target|ba8b6425d0a9d3a88...|fb6d4944f697ff351...|              15.9|\n|00021cd56b6d6c980...|  true|   target|9a4310e54725f9e9b...|3c60bf70c0f9485a6...|              13.9|\n|00021cd56b6d6c980...|  true|   target|b6e311babf9a86139...|c8025f9766488b6af...|              18.0|\n|00021cd56b6d6c980...|  true|   target|9a4310e54725f9e9b...|3c60bf70c0f9485a6...|              13.9|\n|00021cd56b6d6c980...|  true|   target|b6e311babf9a86139...|c8025f9766488b6af...|              18.0|\n+--------------------+------+---------+--------------------+--------------------+------------------+\nonly showing top 5 rows\n\n"
     ]
    }
   ],
   "source": [
    "df_joined_orders_consumer_ab = df_orders.join(\n",
    "    df_joined_consumer_ab,\n",
    "    df_orders.customer_id == df_joined_consumer_ab.customer_id,\n",
    "    how=\"inner\"\n",
    ").select(\n",
    "    df_joined_consumer_ab.customer_id,\n",
    "    df_joined_consumer_ab.active,\n",
    "    df_joined_consumer_ab.is_target,\n",
    "    df_orders.merchant_id,\n",
    "    df_orders.order_id,\n",
    "    df_orders.order_total_amount\n",
    ")\n",
    "\n",
    "df_joined_orders_consumer_ab.show(5)"
   ]
  },
  {
   "cell_type": "markdown",
   "metadata": {
    "application/vnd.databricks.v1+cell": {
     "cellMetadata": {},
     "inputWidgets": {},
     "nuid": "b2ad70b6-0fb0-4e4e-bcbf-c1ca90e2fa92",
     "showTitle": false,
     "tableResultSettingsMap": {},
     "title": ""
    }
   },
   "source": [
    "## Desafio"
   ]
  },
  {
   "cell_type": "markdown",
   "metadata": {
    "application/vnd.databricks.v1+cell": {
     "cellMetadata": {},
     "inputWidgets": {},
     "nuid": "efcb841a-14ef-4403-b054-26eaca2640e3",
     "showTitle": false,
     "tableResultSettingsMap": {},
     "title": ""
    }
   },
   "source": [
    "**1. No iFood, várias áreas utilizam testes A/B para avaliar o impacto de\n",
    "ações em diferentes métricas. Esses testes permitem validar hipóteses\n",
    "de crescimento e a viabilidade de novas funcionalidades em um grupo\n",
    "restrito de usuários. Nos dados fornecidos nesse case você encontrará\n",
    "uma marcação de usuários, separando-os entre grupo teste e controle\n",
    "de uma campanha de cupons, que disponibilizou para os usuários do\n",
    "grupo teste um cupom especial.**"
   ]
  },
  {
   "cell_type": "markdown",
   "metadata": {
    "application/vnd.databricks.v1+cell": {
     "cellMetadata": {},
     "inputWidgets": {},
     "nuid": "4d9aef4a-eb74-40d7-811f-23b894931e14",
     "showTitle": false,
     "tableResultSettingsMap": {},
     "title": ""
    }
   },
   "source": [
    "a) Defina os indicadores relevantes para mensurar o sucesso da\n",
    "campanha e analise se ela teve impacto significativo dentro do\n",
    "período avaliado. "
   ]
  },
  {
   "cell_type": "code",
   "execution_count": 0,
   "metadata": {
    "application/vnd.databricks.v1+cell": {
     "cellMetadata": {
      "byteLimit": 2048000,
      "rowLimit": 10000
     },
     "inputWidgets": {},
     "nuid": "7dc1afb2-1c46-46a4-bc7b-8556c44aec9d",
     "showTitle": false,
     "tableResultSettingsMap": {},
     "title": ""
    }
   },
   "outputs": [
    {
     "output_type": "stream",
     "name": "stdout",
     "output_type": "stream",
     "text": [
      "Taxa de Conversão: 58.34%\n"
     ]
    }
   ],
   "source": [
    "#1. Taxa de Conversão\n",
    "\n",
    "# contabilizar numero de orders\n",
    "total_orders = df_joined_orders_consumer_ab.count()\n",
    "\n",
    "# contabilizar numero de orders dos clientes que estavam no grupo target\n",
    "orders_target = df_joined_orders_consumer_ab.filter(df_joined_orders_consumer_ab[\"is_target\"] == \"target\").count()\n",
    "\n",
    "# Cálculo da taxa de conversão dos pedidos realizados por consumidores do grupo de teste (target) que receberam o cupom\n",
    "conversion_rate = orders_target / total_orders\n",
    "print(f\"Taxa de Conversão: {conversion_rate * 100:.2f}%\")"
   ]
  },
  {
   "cell_type": "code",
   "execution_count": 0,
   "metadata": {
    "application/vnd.databricks.v1+cell": {
     "cellMetadata": {
      "byteLimit": 2048000,
      "rowLimit": 10000
     },
     "inputWidgets": {},
     "nuid": "e8e37b1c-eb32-45e0-b079-9ccf25668c7f",
     "showTitle": false,
     "tableResultSettingsMap": {},
     "title": ""
    }
   },
   "outputs": [
    {
     "output_type": "stream",
     "name": "stdout",
     "output_type": "stream",
     "text": [
      "+---------+---------------+----------------+-------+------------+-----------------------+\n|is_target|total_customers|total_amount_mil| orders|ticket_medio|avg_orders_by_customers|\n+---------+---------------+----------------+-------+------------+-----------------------+\n|  control|         360413|        73046.33|1525058|        47.9|                   4.23|\n|   target|         445743|       101973.23|2135992|       47.74|                   4.79|\n+---------+---------------+----------------+-------+------------+-----------------------+\n\n"
     ]
    }
   ],
   "source": [
    "#2. Ticket Médio (target vs. control)\n",
    "#3. Qual grupo gerou mais pedidos proporcionalmente.\n",
    "#4. Receita Total por Grupo\n",
    "#5. Número Médio de Pedidos por Usuário\n",
    "\n",
    "#Obs: A campanha pode ter como objetivo não só aumentar a taxa de conversão, mas também aumentar o gasto médio por transação.\n",
    "\n",
    "df_joined_orders_consumer_ab.createOrReplaceTempView(\"orders_ab\")\n",
    "\n",
    "ticket_medio = spark.sql(\"\"\"\n",
    "    SELECT \n",
    "        is_target,\n",
    "        count(distinct customer_id) as total_customers,\n",
    "        ROUND((SUM(order_total_amount) / 1000),2) AS total_amount_mil,\n",
    "        COUNT(order_id) AS orders,\n",
    "        ROUND(SUM(order_total_amount) / COUNT(order_id), 2) AS ticket_medio,\n",
    "        ROUND((orders / total_customers),2) as avg_orders_by_customers\n",
    "    FROM orders_ab\n",
    "    GROUP BY is_target\n",
    "\"\"\")\n",
    "\n",
    "ticket_medio.show()"
   ]
  },
  {
   "cell_type": "markdown",
   "metadata": {
    "application/vnd.databricks.v1+cell": {
     "cellMetadata": {},
     "inputWidgets": {},
     "nuid": "ebf863ea-3437-4481-8bbe-85857beb1f38",
     "showTitle": false,
     "tableResultSettingsMap": {},
     "title": ""
    }
   },
   "source": [
    "b) Faça uma análise de viabilidade financeira dessa iniciativa\n",
    "como alavanca de crescimento, adotando as premissas que julgar necessárias (explicite as premissas adotadas)."
   ]
  },
  {
   "cell_type": "markdown",
   "metadata": {
    "application/vnd.databricks.v1+cell": {
     "cellMetadata": {},
     "inputWidgets": {},
     "nuid": "7971fa33-4d2a-4f52-acf7-bb93c9197126",
     "showTitle": false,
     "tableResultSettingsMap": {},
     "title": ""
    }
   },
   "source": [
    "Premissas Adotadas \n",
    "- 1. Custo do Cupom: Assumimos um desconto médio de R$10 por cupom utilizado.\n",
    "- 2. Adesão e Uso do Cupom: A **taxa de conversão de 58.34%** é usada para estimar o número de cupons utilizados.\n",
    "- 3. Impacto na Receita do iFood: Assumiremos que 60% dos restaurantes utilizam entrega própria (12% de comissão) e 40% utilizam a entrega do iFood (23% de comissão). Com isso, a taxa de comissão média ponderada seria: (0.60 * 0.12) + (0.40 * 0.23) = 0.072 + 0.092 = 0.164 ou 16.4%.\n",
    "- 4. Custos Operacionais Adicionais: Inicialmente, focaremos no custo direto do cupom.\n",
    "- 5. Foco no Curto Prazo: A análise se concentra no período do teste A/B.\n",
    "\n",
    "Cálculos \n",
    "- Total de Pedidos do Grupo Teste: 2.135.992\n",
    "- Total de Clientes do Grupo Teste: 445.743\n",
    "- Taxa de Conversão: 58.34%\n",
    "- Número de Cupons Utilizados: 445.743 clientes * 58.34% = 260.000 (aproximadamente)\n",
    "- Custo Total dos Cupons para o iFood: 260.000 cupons * R$10/cupom = R$2.600.000\n",
    "- Receita Total do Grupo Teste (Valor Total dos Pedidos): R$101.973.230\n",
    "- Receita Total do Grupo Controle (Valor Total dos Pedidos): R$73.046.330\n",
    "- Receita Incremental do Grupo Teste (Valor Total dos Pedidos): R$101.973.230 - R$73.046.330 = R$28.926.900\n",
    "- Receita Incremental do (Comissões): R$28.926.900 * 0.164 = R$4.744.012,60\n",
    "- Lucro Bruto da Campanha para o iFood: R$4.744.012,60 (receita comissão) - R$2.600.000 (custo cupom) = R$2.144.012,60\n",
    "\n",
    "Análise da Viabilidade Financeira:\n",
    "\n",
    "- Com a consideração das taxas de comissão, a campanha de cupons ainda se mostra financeiramente viável, embora a margem de lucro seja menor. A receita incremental gerada em comissões (R$4.744.012,60) supera o custo dos cupons (R$2.600.000), resultando em um lucro bruto estimado de R$2.144.012,60.\n",
    "- \n",
    "- O payback ocorre integralmente dentro do período de 2018-12-03 a 2019-01-31. A campanha gera mais receita incremental do que o custo dos cupons durante esse período, tornando-a financeiramente positiva em termos de payback.\n",
    "\n",
    "Impacto e Considerações:\n",
    "\n",
    "- Rentabilidade: A campanha continua a impulsionar o volume de pedidos e, consequentemente, a receita em comissões. No entanto, a rentabilidade é diretamente afetada pela taxa de comissão média e pelo custo dos cupons.\n",
    "\n",
    "- Mix de Entrega: A premissa sobre o mix de entrega (60% própria / 40% iFood) é crucial. Se a proporção de entregas pelo iFood for maior, a taxa de comissão média seria mais alta, aumentando a receita.\n",
    "\n",
    "- Otimização: a campanha ajustando o valor do desconto do cupom, segmentando os cupons para diferentes tipos de restaurantes ou usuários, ou negociando diferentes taxas de comissão com os restaurantes.\n",
    "\n",
    "- LTV: considerar o valor de longo prazo dos clientes adquiridos ou retidos pela campanha. Aumento da fidelidade e frequência de uso contribuem para a receita futura."
   ]
  },
  {
   "cell_type": "markdown",
   "metadata": {
    "application/vnd.databricks.v1+cell": {
     "cellMetadata": {},
     "inputWidgets": {},
     "nuid": "20c7ebae-bd68-424f-85a8-4f263723801d",
     "showTitle": false,
     "tableResultSettingsMap": {},
     "title": ""
    }
   },
   "source": [
    "c) Recomende oportunidades de melhoria nessa ação e desenhe uma nova proposta de teste A/B para validar essas hipóteses. "
   ]
  },
  {
   "cell_type": "markdown",
   "metadata": {
    "application/vnd.databricks.v1+cell": {
     "cellMetadata": {
      "byteLimit": 2048000,
      "rowLimit": 10000
     },
     "inputWidgets": {},
     "nuid": "d5141429-e39d-484a-a6da-ee4ae1b391e7",
     "showTitle": false,
     "tableResultSettingsMap": {},
     "title": ""
    }
   },
   "source": [
    "Oportunidades de Melhoria:\n",
    "\n",
    "- Segmentação Inteligente (Inativos/Baixa Frequência): Essa é uma excelente estratégia. Reativar usuários inativos ou incentivar usuários com baixa frequência de pedidos pode ter um alto ROI, pois são clientes que já conhecem a plataforma.\n",
    "\n",
    "- Cupom Condicionado (Valor Mínimo): Essa é uma tática comum e eficaz para aumentar o ticket médio. Ao exigir um valor mínimo de pedido para aplicar o cupom, o iFood incentiva os usuários a gastarem mais.\n",
    "\n",
    "- Limite de Uso/Horários de Baixa Demanda: Restringir o uso de cupons (por usuário ou por horário) é crucial para controlar os custos e otimizar a demanda. Cupons em horários de baixa demanda podem ajudar a aumentar o volume de pedidos em períodos ociosos.\n",
    "\n",
    "Nova proposta de teste A/B:\n",
    "\n",
    "- Objetivo: O principal objetivo deste teste é otimizar a rentabilidade das campanhas de cupons, com foco na geração de receita incremental com margens otimizadas, em vez de priorizar exclusivamente o aumento do volume de pedidos.\n",
    "\n",
    "- Grupos Controle: Não receberá nenhuma oferta de cupom durante o período do teste. Este grupo servirá como base de comparação para avaliar o impacto das ofertas nos grupos de teste.\n",
    "\n",
    "- Grupo Teste 1: Cupom Condicionado (Valor Mínimo de Pedido): Receberá cupons com as seguintes condições:\n",
    "- > Valor do Cupom: R$ 10\n",
    "- > Condição de Uso: Válido para pedidos com valor mínimo de R$ 60\n",
    "- > Hipótese: A aplicação de um valor mínimo de pedido incentivará um aumento no ticket médio e, consequentemente, na receita por transação.\n",
    "\n",
    "Grupo Teste 2: Cupom Horário (Incentivo à Demanda em Período Específico): Receberá cupons com as seguintes condições:\n",
    "- > Valor do Cupom: R$ 15\n",
    "- > Condição de Uso: Válido exclusivamente no período das 17h às 19h\n",
    "- > Hipótese: A restrição do uso do cupom a horários de menor demanda contribuirá para um melhor aproveitamento da capacidade operacional e para a geração de receita incremental."
   ]
  },
  {
   "cell_type": "markdown",
   "metadata": {
    "application/vnd.databricks.v1+cell": {
     "cellMetadata": {},
     "inputWidgets": {},
     "nuid": "13d744bb-a6f3-485d-8939-9a6b8f03a895",
     "showTitle": false,
     "tableResultSettingsMap": {},
     "title": ""
    },
    "jupyter": {
     "outputs_hidden": true
    }
   },
   "source": [
    "**2. A criação de segmentações permite agrupar usuários de acordo com\n",
    "características e comportamentos similares, possibilitando criar estratégias direcionadas de acordo com o perfil de cada público, facilitando a personalização e incentivando o engajamento, retenção, além de otimização de recursos. Segmentações de usuários são muito utilizadas pelos times de Data, mas a área em que você atua ainda não tem segmentos bem definidos e cada área de Negócio utiliza conceitos diferentes. Por isso, você precisa:**"
   ]
  },
  {
   "cell_type": "markdown",
   "metadata": {
    "application/vnd.databricks.v1+cell": {
     "cellMetadata": {},
     "inputWidgets": {},
     "nuid": "c273b6d0-66aa-4b34-9412-3d95790415e8",
     "showTitle": false,
     "tableResultSettingsMap": {},
     "title": ""
    }
   },
   "source": [
    "a) Definir as segmentações que fazem sentido especificamente para o teste A/B que está analisando. "
   ]
  },
  {
   "cell_type": "markdown",
   "metadata": {
    "application/vnd.databricks.v1+cell": {
     "cellMetadata": {},
     "inputWidgets": {},
     "nuid": "7f637db9-c273-4b6c-ad35-d4ce9e2235d7",
     "showTitle": false,
     "tableResultSettingsMap": {},
     "title": ""
    }
   },
   "source": [
    "Frequência de pedidos:\n",
    "\n",
    "- Para separar usuários novos, moderadamente engajados e recorrentes.\n",
    "\n",
    "Ticket médio:\n",
    "- Para entender o impacto financeiro dos cupons em diferentes perfis de consumo.\n",
    "\n",
    "Horário do pedido:\n",
    "- Para identificar horários de pico e ociosidade, otimizando o uso de cupons com base na demanda ao longo do dia.\n",
    "\n",
    "Clientes: Inativos vs Ativos\n",
    "\n",
    "- Para medir a resposta ao cupom em usuários inativos vs. ativos."
   ]
  },
  {
   "cell_type": "markdown",
   "metadata": {
    "application/vnd.databricks.v1+cell": {
     "cellMetadata": {},
     "inputWidgets": {},
     "nuid": "e4ab8460-39f4-409d-90ae-1265ce5cea64",
     "showTitle": false,
     "tableResultSettingsMap": {},
     "title": ""
    }
   },
   "source": [
    "b) Estabelecer quais serão os critérios utilizados para cada segmento sugerido no item a). Utilize os critérios/ferramentas que\n",
    "achar necessários, mas lembre-se de explicar o racional utilizado na criação. "
   ]
  },
  {
   "cell_type": "code",
   "execution_count": 0,
   "metadata": {
    "application/vnd.databricks.v1+cell": {
     "cellMetadata": {
      "byteLimit": 2048000,
      "rowLimit": 10000
     },
     "inputWidgets": {},
     "nuid": "838e824f-8a03-44ca-818f-737a1470c63b",
     "showTitle": false,
     "tableResultSettingsMap": {},
     "title": ""
    }
   },
   "outputs": [
    {
     "output_type": "stream",
     "name": "stdout",
     "output_type": "stream",
     "text": [
      "+-------------------+---------------+----------------+--------------------+-------------+\n|segmento_frequencia|total_customers|seg_total_orders|seg_total_amount_mil|tkt_medio_seg|\n+-------------------+---------------+----------------+--------------------+-------------+\n|           Moderado|         430744|         1212242|            58225.08|        48.03|\n|             Novato|         182521|          182521|             8772.97|        48.07|\n|         Recorrente|         192891|         2266287|           108021.52|        47.66|\n+-------------------+---------------+----------------+--------------------+-------------+\n\n"
     ]
    }
   ],
   "source": [
    "#Frequência de pedidos\n",
    "#Critério: número total de pedidos por customer_id.\n",
    "#Segmentos:\n",
    "    #Novato: 1 pedido\n",
    "    #Moderado: 2–5 pedidos\n",
    "    #Recorrente: mais de 5 pedidos\n",
    "#Racional: usuários com poucos pedidos tendem a ser mais sensíveis a incentivos, enquanto os recorrentes já demonstram fidelidade.\n",
    "\n",
    "df_joined_orders_consumer_ab.createOrReplaceTempView(\"segmento_frequencia_order\")\n",
    "\n",
    "segmento_freq_sql = spark.sql(\"\"\"\n",
    "    SELECT\n",
    "        segmento_frequencia\n",
    "        ,count (distinct customer_id) as total_customers\n",
    "        ,sum(total_orders) as seg_total_orders\n",
    "        ,ROUND((sum(total_amount) /1000) ,2) as seg_total_amount_mil\n",
    "        ,ROUND((sum(total_amount) / sum(total_orders)),2) as tkt_medio_seg\n",
    "    FROM (\n",
    "            SELECT\n",
    "                customer_id\n",
    "                ,count(order_id) as total_orders\n",
    "                ,sum(order_total_amount) as total_amount\n",
    "                ,case \n",
    "                    when total_orders = 1 then \"Novato\"\n",
    "                    when total_orders >= 2 and total_orders <= 5 then \"Moderado\"\n",
    "                    when total_orders > 5 then \"Recorrente\"\n",
    "                end as segmento_frequencia\n",
    "            FROM segmento_frequencia_order\n",
    "            GROUP BY 1 \n",
    "        )\n",
    "    GROUP BY segmento_frequencia\n",
    "\"\"\")\n",
    "\n",
    "segmento_freq_sql.show(3)"
   ]
  },
  {
   "cell_type": "code",
   "execution_count": 0,
   "metadata": {
    "application/vnd.databricks.v1+cell": {
     "cellMetadata": {
      "byteLimit": 2048000,
      "rowLimit": 10000
     },
     "inputWidgets": {},
     "nuid": "3e9e57bd-dd18-4d98-ae1d-cf5057c35a0c",
     "showTitle": false,
     "tableResultSettingsMap": {},
     "title": ""
    }
   },
   "outputs": [
    {
     "output_type": "stream",
     "name": "stdout",
     "output_type": "stream",
     "text": [
      "+---------------+------------+\n|segmento_ticket|qtd_usuarios|\n+---------------+------------+\n|           Alto|      172305|\n|          Baixo|      216964|\n|          Médio|      416887|\n+---------------+------------+\n\n"
     ]
    }
   ],
   "source": [
    "#Ticket médio\n",
    "#Critério: média de order_total_amount por customer_id.\n",
    "#Segmentos:\n",
    "    #Baixo: até R$30\n",
    "    #Médio: entre R$30 e R$60\n",
    "    #Alto: acima de R$60\n",
    "#Racional: entender se cupons incentivam mais consumo em clientes de ticket médio ou baixo.\n",
    "\n",
    "#Calcular o ticket médio por cliente\n",
    "df_ticket_medio = df_joined_orders_consumer_ab.groupBy(\"customer_id\") \\\n",
    "    .agg(avg(\"order_total_amount\").alias(\"ticket_medio\"))\n",
    "\n",
    "#Criar coluna de segmentação com base no ticket médio\n",
    "df_segmentado_ticket = df_ticket_medio.withColumn(\n",
    "    \"segmento_ticket\",\n",
    "    when(col(\"ticket_medio\") <= 30, \"Baixo\")\n",
    "    .when((col(\"ticket_medio\") > 30) & (col(\"ticket_medio\") <= 60), \"Médio\")\n",
    "    .otherwise(\"Alto\")\n",
    ")\n",
    "\n",
    "#Contar quantos usuários estão em cada segmento:\n",
    "\n",
    "df_segmentado_ticket_summary = df_segmentado_ticket.groupBy(\"segmento_ticket\") \\\n",
    "    .agg(count(\"customer_id\").alias(\"qtd_usuarios\")) \\\n",
    "    .orderBy(\"segmento_ticket\") \n",
    "\n",
    "df_segmentado_ticket_summary.show()"
   ]
  },
  {
   "cell_type": "code",
   "execution_count": 0,
   "metadata": {
    "application/vnd.databricks.v1+cell": {
     "cellMetadata": {
      "byteLimit": 2048000,
      "rowLimit": 10000
     },
     "inputWidgets": {},
     "nuid": "68a00590-906c-4a0f-b793-e83f11436a61",
     "showTitle": false,
     "tableResultSettingsMap": {},
     "title": ""
    }
   },
   "outputs": [
    {
     "output_type": "display_data",
     "data": {
      "image/png": "[encoded data removed]"
     },
     "metadata": {
      "application/vnd.databricks.v1+output": {
       "addedWidgets": {},
       "arguments": {},
       "data": "data:image/png;base64,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\n",
       "datasetInfos": [],
       "metadata": {},
       "removedWidgets": [],
       "type": "image"
      }
     },
     "output_type": "display_data"
    }
   ],
   "source": [
    "import matplotlib.pyplot as plt\n",
    "\n",
    "# Converta o DataFrame Spark para Pandas\n",
    "df_pandas_segmentado_ticket = df_segmentado_ticket_summary.select(\"segmento_ticket\", \"qtd_usuarios\").toPandas()\n",
    "\n",
    "# Extraia as colunas como listas\n",
    "segmentos = df_pandas_segmentado_ticket[\"segmento_ticket\"].tolist()\n",
    "qtd_usuarios = df_pandas_segmentado_ticket[\"qtd_usuarios\"].tolist()\n",
    "\n",
    "plt.figure(figsize=(8, 5))\n",
    "plt.bar(segmentos, qtd_usuarios, color=[\"#66b3ff\", \"#99ff99\", \"#ff9999\"])\n",
    "plt.xlabel(\"Segmento de Ticket Médio\")\n",
    "plt.ylabel(\"Quantidade de Usuários\")\n",
    "plt.title(\"Distribuição de Usuários por Segmento de Ticket Médio\")\n",
    "plt.grid(axis='y', linestyle='--', alpha=0.7)\n",
    "plt.tight_layout()\n",
    "plt.show()"
   ]
  },
  {
   "cell_type": "code",
   "execution_count": 0,
   "metadata": {
    "application/vnd.databricks.v1+cell": {
     "cellMetadata": {
      "byteLimit": 2048000,
      "rowLimit": 10000
     },
     "inputWidgets": {},
     "nuid": "f8114b35-499c-41e6-93bd-0b89bde6e108",
     "showTitle": false,
     "tableResultSettingsMap": {},
     "title": ""
    }
   },
   "outputs": [
    {
     "output_type": "stream",
     "name": "stdout",
     "output_type": "stream",
     "text": [
      "+---------------+-------------+------------+\n|order_hour_only|total_pedidos|ticket_medio|\n+---------------+-------------+------------+\n|          23:00|       675773|       49.77|\n|          22:00|       682457|       51.07|\n|          21:00|       387623|       50.45|\n|          20:00|       157230|       48.29|\n|          19:00|        61173|       47.05|\n|          18:00|        65391|       52.47|\n|          17:00|        97455|       49.23|\n|          16:00|       161042|       48.42|\n|          15:00|       231503|       46.46|\n|          14:00|       225930|       43.49|\n|          13:00|       102351|       37.31|\n|          12:00|        11711|       30.12|\n|          11:00|         1639|       31.12|\n|          10:00|          520|       33.35|\n|          09:00|          196|       68.13|\n|          08:00|          261|       41.19|\n|          07:00|          871|       42.13|\n|          06:00|         2360|       42.13|\n|          05:00|         5958|       43.29|\n|          04:00|        14023|       42.53|\n|          03:00|        33037|       41.32|\n|          02:00|        89824|       41.05|\n|          01:00|       216778|       43.57|\n|          00:00|       445720|       47.02|\n+---------------+-------------+------------+\n\n"
     ]
    }
   ],
   "source": [
    "#Horários em que o usuário costuma fazer pedidos com mais frequência.\n",
    "#Critério: contagem de pedidos por hora do dia\n",
    "#Segmentos: \n",
    "    # Hora em hora\n",
    "#Racional: identificar com precisão os momentos de maior e menor demanda ao longo do dia. Essa granularidade é essencial para detectar microperíodos de ociosidade, que podem ser mascarados em faixas horárias mais amplas.\n",
    "\n",
    "df_orders_hr = df_orders_hour_only.groupBy(\"order_hour_only\").count()\n",
    "\n",
    "##df_orders_hr.orderBy(col(\"order_hour_only\"), ascending=False).show(24)\n",
    "\n",
    "df_orders_hour_only.groupBy(\"order_hour_only\").agg(\n",
    "    count(\"*\").alias(\"total_pedidos\"),\n",
    "    round(sum(\"order_total_amount\") / count(\"*\"), 2).alias(\"ticket_medio\")\n",
    ").orderBy(\"order_hour_only\").orderBy(col(\"order_hour_only\"), ascending=False).show(24)"
   ]
  },
  {
   "cell_type": "code",
   "execution_count": 0,
   "metadata": {
    "application/vnd.databricks.v1+cell": {
     "cellMetadata": {
      "byteLimit": 2048000,
      "rowLimit": 10000
     },
     "inputWidgets": {},
     "nuid": "6ca2d442-05ad-4fd3-8d7e-14686a18cb70",
     "showTitle": false,
     "tableResultSettingsMap": {},
     "title": ""
    }
   },
   "outputs": [
    {
     "output_type": "display_data",
     "data": {
      "image/png": "[encoded data removed]"
     },
     "metadata": {
      "application/vnd.databricks.v1+output": {
       "addedWidgets": {},
       "arguments": {},
       "data": "data:image/png;base64,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\n",
       "datasetInfos": [],
       "metadata": {},
       "removedWidgets": [],
       "type": "image"
      }
     },
     "output_type": "display_data"
    }
   ],
   "source": [
    "df_orders_hr_pd = df_orders_hr.toPandas()\n",
    "\n",
    "# Ordena o DataFrame pelo horário\n",
    "df_orders_hr_pd = df_orders_hr_pd.sort_values(by=\"order_hour_only\")\n",
    "\n",
    "plt.figure(figsize=(12, 5))\n",
    "plt.plot(df_orders_hr_pd[\"order_hour_only\"], df_orders_hr_pd[\"count\"], marker='o', color='skyblue')\n",
    "plt.xlabel(\"Hora do Pedido\")\n",
    "plt.ylabel(\"Quantidade de Pedidos\")\n",
    "plt.title(\"Quantidade de Pedidos por Hora\")\n",
    "plt.xticks(rotation=45)\n",
    "plt.grid(True)\n",
    "plt.tight_layout()\n",
    "plt.show()"
   ]
  },
  {
   "cell_type": "code",
   "execution_count": 0,
   "metadata": {
    "application/vnd.databricks.v1+cell": {
     "cellMetadata": {
      "byteLimit": 2048000,
      "rowLimit": 10000
     },
     "inputWidgets": {},
     "nuid": "5e474e54-24b4-4feb-bf30-df6d228671da",
     "showTitle": false,
     "tableResultSettingsMap": {},
     "title": ""
    }
   },
   "outputs": [
    {
     "output_type": "stream",
     "name": "stdout",
     "output_type": "stream",
     "text": [
      "+------+---------+---------------+----------------+-------+------------+-----------------------+\n|active|is_target|total_customers|total_amount_mil| orders|ticket_medio|avg_orders_by_customers|\n+------+---------+---------------+----------------+-------+------------+-----------------------+\n|  true|  control|         359700|        72875.52|1521612|       47.89|                   4.23|\n|  true|   target|         444861|       101706.99|2130524|       47.74|                   4.79|\n| false|   target|            882|          266.24|   5468|       48.69|                    6.2|\n| false|  control|            713|          170.81|   3446|       49.57|                   4.83|\n+------+---------+---------------+----------------+-------+------------+-----------------------+\n\n"
     ]
    }
   ],
   "source": [
    "#Clientes: Inativos vs Ativos:\n",
    "#Segmentos: \n",
    "    #active\n",
    "    #is_target\n",
    "#Racional: medir a resposta ao cupom em usuários inativos vs. ativos.\n",
    "\n",
    "df_joined_orders_consumer_ab.createOrReplaceTempView(\"orders_status_customer\")\n",
    "\n",
    "status_customer = spark.sql(\"\"\"\n",
    "    SELECT \n",
    "        active,\n",
    "        is_target,\n",
    "        count(distinct customer_id) as total_customers,\n",
    "        ROUND((SUM(order_total_amount) / 1000),2) AS total_amount_mil,\n",
    "        COUNT(order_id) AS orders,\n",
    "        ROUND(SUM(order_total_amount) / COUNT(order_id), 2) AS ticket_medio,\n",
    "        ROUND((orders / total_customers),2) as avg_orders_by_customers\n",
    "    FROM orders_status_customer\n",
    "    GROUP BY \n",
    "        active,\n",
    "        is_target\n",
    "\"\"\")\n",
    "\n",
    "status_customer.show()"
   ]
  },
  {
   "cell_type": "markdown",
   "metadata": {
    "application/vnd.databricks.v1+cell": {
     "cellMetadata": {},
     "inputWidgets": {},
     "nuid": "d4693c2c-d1ea-4e5f-9e34-e48691193186",
     "showTitle": false,
     "tableResultSettingsMap": {},
     "title": ""
    }
   },
   "source": [
    "**3. Com base na análise que realizou nas questões 1 e 2, sugira os próximos passos que o iFood deve tomar. Lembre-se que você precisa defender suas sugestões para as lideranças de Negócio, por isso não esqueça de incluir uma previsão de impacto (financeiro ou não) caso o \n",
    "iFood siga com a sua recomendação. Fique à vontade para sugerir melhorias no processo/teste e para propor diferentes estratégias de acordo com cada segmento de usuário.** "
   ]
  },
  {
   "cell_type": "markdown",
   "metadata": {
    "application/vnd.databricks.v1+cell": {
     "cellMetadata": {},
     "inputWidgets": {},
     "nuid": "0564fe79-96ca-44b9-a6c3-01faf0fc06ec",
     "showTitle": false,
     "tableResultSettingsMap": {},
     "title": ""
    }
   },
   "source": [
    "Escalar a campanha de cupons com segmentação inteligente. Justificativa: A campanha gerou lucro e aumento significativo de pedidos.\n",
    "\n",
    "Próximo passo: Aplicar segmentação comportamental, como:\n",
    "\n",
    "- Frequência de pedidos\n",
    "- Horário do pedido\n",
    "- Histórico de tíquete médio\n",
    "- Clientes: Inativos vs Ativos\n",
    "- Região (cidades com menor penetração)\n",
    "\n",
    "Previsão de impacto: A segmentação pode aumentar o ROI em até 20%, reduzindo cupons desperdiçados em clientes que já comprariam sem incentivo.\n",
    "\n",
    " **Situação Atual (sem segmentação)** \n",
    " \n",
    "- Total de cupons usados: 260.000\n",
    "- Custo total da campanha: R$2.600.000\n",
    "- Lucro bruto gerado (comissões - custo): R$2.144.012,60\n",
    "- ROI atual: (2.144.012,60 / 2.600.000) = 82,5%\n",
    "\n",
    "**Novo cenário (com segmentação)**\n",
    "\n",
    "Vamos supor que 20% dos cupons (52.000 cupons) poderiam ter sido evitados com uma segmentação mais eficiente (dados históricos, frequência de pedidos, tíquete médio etc.).\n",
    "\n",
    "- Cupons utilizados: 208.000\n",
    "- Novo custo da campanha: 208.000 × R$10 = R$2.080.000\n",
    "- Lucro bruto mantido (assumindo que só removemos cupons ineficientes): continua R$2.144.012,60\n",
    "- Novo ROI: (2.144.012,60 / 2.080.000) = 103%\n",
    "\n",
    "Aumento no ROI:\n",
    "\n",
    "- Aumento percentual = ((103 - 82,5) / 82,5) * 100 = 24,8%\n",
    "\n",
    "**Conclusão**\n",
    "\n",
    "Se o iFood conseguir evitar apenas 20% dos cupons ineficientes, o ROI da campanha pode aumentar de 82,5% para 103%, ou seja, um ganho de quase 25% em eficiência — o que justifica a previsão conservadora de “até 20%” de aumento no ROI."
   ]
  },
  {
   "cell_type": "markdown",
   "metadata": {
    "application/vnd.databricks.v1+cell": {
     "cellMetadata": {},
     "inputWidgets": {},
     "nuid": "d25cd157-02e6-40c2-b28d-a438c67c92e8",
     "showTitle": false,
     "tableResultSettingsMap": {},
     "title": ""
    }
   },
   "source": [
    "**Incentivo Direcionado em Horários de Baixa Demanda**\n",
    "\n",
    "Com base na análise dos resultados da campanha atual e na identificação de faixas horárias com ociosidade, recomendamos a aplicação de cupons de valor ampliado (ex.: R$15) restritos a horários de menor volume de pedidos, como o período entre 17h e 19h.\n",
    "\n",
    "Demanda total (soma dos pedidos) = ~6,700,000\n",
    "\n",
    "Horários com capacidade ociosa:\n",
    "- 17h: 97.455\n",
    "- 18h: 65.391\n",
    "- 19h: 61.173\n",
    "- Total: ~224 mil pedidos\n",
    "\n",
    "Horário de jantar (alta demanda):\n",
    "- 20h: 157.230\n",
    "- 21h: 387.623\n",
    "- 22h: 682.457\n",
    "- 23h: 675.773\n",
    "- Total: ~1.9 milhão de pedidos\n",
    "\n",
    "**Análise: Por que focar no horário 17h–19h**\n",
    "\n",
    "Entre 17h e 19h, o volume de pedidos ainda é baixo 3,3% da demanda, mas o ticket médio é alto (acima de R$47), comparável ao horário de pico.\n",
    "\n",
    "Ou seja: existe poder de compra disponível, mas há falta de estímulo comportamental para antecipar o consumo.\n",
    "\n",
    "A partir das 20h a demanda aumenta muito — isso pressiona a operação e pode comprometer a experiência do usuário e a capacidade dos entregadores.\n",
    "\n",
    "Benefícios da Ação (do ponto de vista operacional e de experiência do cliente)\n",
    "\n",
    "- Melhora no NPS: Com menor volume de pedidos nesse horário, é possível garantir entregas mais rápidas e com menor taxa de erro.\n",
    "\n",
    "- Redução da sobrecarga nos horários de pico (20h–23h), melhorando a performance logística e evitando atrasos.\n",
    "\n",
    "- Melhor uso da capacidade existente, já que toda a infraestrutura (restaurantes, entregadores, sistema) já está ativa, mas subutilizada.\n",
    "\n",
    "- Criação de um novo hábito de consumo em um horário estratégico.\n",
    "\n",
    "Limitação Financeira\n",
    "\n",
    "- A simulação indica que a ação não é financeiramente viável por si só, já que o valor dos cupons (R$15) aplicados a todos os pedidos entre 17h–19h gera prejuízo se não houver um aumento real de novos pedidos.\n",
    "\n",
    "- Ou seja, se os clientes apenas anteciparem seus pedidos, o iFood perde margem, já que pagará o cupom mesmo em pedidos que já aconteceriam de qualquer forma.\n",
    "\n",
    "Solução Estratégica: Parceria com Restaurantes\n",
    "A campanha pode ser viabilizada em parceria com os restaurantes, que também se beneficiam:\n",
    "\n",
    "- Restaurantes têm mais tempo para produção e menos pressão operacional no pico.\n",
    "\n",
    "- Melhora a experiência do cliente (menor tempo de espera = mais avaliações positivas).\n",
    "\n",
    "- Possibilidade de divisão do custo do cupom entre iFood e restaurante.\n",
    "\n",
    "- Exemplo: iFood oferece R$10 e o restaurante concede mais R$5, totalizando o incentivo de R$15.\n",
    "\n",
    "Conclusão Estratégica\n",
    "\n",
    "- Embora a campanha não seja financeiramente viável isoladamente, ela pode trazer ganhos operacionais e de experiência do cliente, que têm impacto indireto no negócio (retenção, NPS, eficiência de entrega).\n",
    "\n",
    "- Ao combinar a ação com parcerias estratégicas com restaurantes e foco em pedidos realmente incrementais, ela pode ser sustentável e benéfica no médio prazo."
   ]
  },
  {
   "cell_type": "markdown",
   "metadata": {
    "application/vnd.databricks.v1+cell": {
     "cellMetadata": {},
     "inputWidgets": {},
     "nuid": "4cef2877-9551-4a66-9269-5f99821403df",
     "showTitle": false,
     "tableResultSettingsMap": {},
     "title": ""
    }
   },
   "source": [
    "**Estratégia para Usuários Novatos**\n",
    "\n",
    "- Comportamento observado: Realizaram apenas um pedido e representam o maior risco de churn.\n",
    "\n",
    "Recomendação:\n",
    "\n",
    "- Oferecer o cupom de R$10 para esse grupo, válido em pedidos a partir de R$60 (como já definido)\n",
    "\n",
    "Justificativa:\n",
    "\n",
    "- A condição de uso (mínimo de R$60) garante aumento no ticket médio e contribui para diluir o valor do cupom no pedido.\n",
    "\n",
    "Calculo do Impacto\n",
    "\n",
    "- Usuários alvo: 182.521\n",
    "\n",
    "- Taxa de conversão estimada com cupom: 20% → 36.504 usuários\n",
    "\n",
    "- Valor médio do pedido com cupom: R$65\n",
    "\n",
    "- Receita bruta estimada: R$65 x 36.504 = R$2.372.760\n",
    "\n",
    "- Receita líquida do iFood (16,4%): R$2.372.760 x 0.164 = R$389.121\n",
    "\n",
    "- Custo com cupons: - 36.504 x R$10 = R$365.040\n",
    "\n",
    "- Lucro líquido estimado: R$389.121 – R$365.040 = R$24.081\n",
    "\n",
    "Conclusão Estratégica: \n",
    "\n",
    "- Mesmo com uma margem pequena, o real ganho está na retenção desses clientes, que podem migrar para o segmento Moderado."
   ]
  }
 ],
 "metadata": {
  "application/vnd.databricks.v1+notebook": {
   "computePreferences": null,
   "dashboards": [],
   "environmentMetadata": {
    "base_environment": "",
    "environment_version": "1"
   },
   "inputWidgetPreferences": null,
   "language": "python",
   "notebookMetadata": {
    "mostRecentlyExecutedCommandWithImplicitDF": {
     "commandId": 4208196288233759,
     "dataframes": [
      "_sqldf"
     ]
    },
    "pythonIndentUnit": 4
   },
   "notebookName": "notebook_case_ifood_data_analyst",
   "widgets": {}
  }
 },
 "nbformat": 4,
 "nbformat_minor": 0
}